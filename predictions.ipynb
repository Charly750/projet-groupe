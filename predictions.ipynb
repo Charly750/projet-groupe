{
 "cells": [
  {
   "cell_type": "code",
   "execution_count": 1,
   "metadata": {},
   "outputs": [],
   "source": [
    "#je vais me connecter à la base de données annonces.db faire des prédictions des prix grace à un modèle de machine learning\n",
    "#je vais ensuite enregistrer le modèle dans un fichier pour pouvoir l'utiliser plus tard\n",
    "import sqlite3\n",
    "import pandas as pd\n",
    "from sklearn.model_selection import train_test_split\n",
    "from sklearn.linear_model import LinearRegression\n",
    "import numpy as np\n",
    "import joblib\n"
   ]
  },
  {
   "cell_type": "code",
   "execution_count": 2,
   "metadata": {},
   "outputs": [],
   "source": [
    "#je me connecte à la base de données\n",
    "conn = sqlite3.connect(\"annonces.db\")\n",
    "#je récupère les données\n",
    "data = pd.read_sql_query(\"SELECT * FROM annonces\", conn)\n",
    "#je ferme la connexion\n",
    "conn.close()"
   ]
  },
  {
   "cell_type": "code",
   "execution_count": 3,
   "metadata": {},
   "outputs": [
    {
     "name": "stdout",
     "output_type": "stream",
     "text": [
      "   id  location  pieces  surface   price  \\\n",
      "0   1        10       1     15.4   740.0   \n",
      "1   2         8       1     40.0  2000.0   \n",
      "2   3        16       1     12.0   585.0   \n",
      "3   4         1       3     73.0  3499.0   \n",
      "4   5         5       2     38.0  1610.0   \n",
      "\n",
      "                                         description  \n",
      "0  Studio refait à neuf très belle prestation rez...  \n",
      "1  **Idéal étudiant(e)** À 100 m du Parc Monceau,...  \n",
      "2  **Disponible fin octobre 2024** Studette meubl...  \n",
      "3  Très bel appartement parisien de 73m2, entière...  \n",
      "4  **C'est ma résidence principale que je loue pe...  \n"
     ]
    }
   ],
   "source": [
    "\n",
    "print(data.head())"
   ]
  },
  {
   "cell_type": "code",
   "execution_count": 4,
   "metadata": {},
   "outputs": [
    {
     "data": {
      "text/plain": [
       "<Axes: >"
      ]
     },
     "execution_count": 4,
     "metadata": {},
     "output_type": "execute_result"
    },
    {
     "data": {
      "image/png": "[encoded data removed]",
      "text/plain": [
       "<Figure size 640x480 with 1 Axes>"
      ]
     },
     "metadata": {},
     "output_type": "display_data"
    }
   ],
   "source": [
    "import matplotlib.pyplot as plt\n",
    "#je crée un boxplot pour voir si il y a des valeurs aberrantes\n",
    "data.boxplot(column=\"price\")"
   ]
  },
  {
   "cell_type": "code",
   "execution_count": 5,
   "metadata": {},
   "outputs": [
    {
     "name": "stdout",
     "output_type": "stream",
     "text": [
      "     Location  Surface  Prix Réel  Prix Prédit\n",
      "27         14    72.54     2350.0  2340.126714\n",
      "340        14    37.00     1295.0  1338.050000\n",
      "79         16    18.00      870.0   885.350000\n",
      "208         5    38.00     1610.0  1632.970000\n",
      "61         20    28.60     1225.0  1053.033333\n",
      "..        ...      ...        ...          ...\n",
      "275        17    10.50      800.0   674.400000\n",
      "4           5    38.00     1610.0  1632.970000\n",
      "83         15    69.00     2490.0  2473.500000\n",
      "257        18    47.00     1900.0  1489.340000\n",
      "65         12    52.00     1690.0  1948.080000\n",
      "\n",
      "[67 rows x 4 columns]\n",
      "Coefficient de détermination (R²): 0.9000840964273804\n",
      "Erreur quadratique moyenne (MSE): 44649.215011910244\n",
      "Racine carrée de l'erreur quadratique moyenne (RMSE): 211.30360861071503\n",
      "Erreur absolue moyenne (MAE): 140.1500592276712\n",
      "Erreur moyenne absolue en pourcentage (MAPE): 10.71%\n"
     ]
    },
    {
     "data": {
      "text/plain": [
       "['RFR_model.pkl']"
      ]
     },
     "execution_count": 5,
     "metadata": {},
     "output_type": "execute_result"
    }
   ],
   "source": [
    "from sklearn.ensemble import RandomForestRegressor\n",
    "#les valeurs au dessus de 3600 sont des valeurs aberrantes\n",
    "#apres plusieurs essais, j'ai décidé de supprimer celle qui sont audessus de 3300 pour le random forest regressor car cela me donnait le plus de précision\n",
    "#je vais aussi enlever celle qui sont en dessous de 200\n",
    "# dataForRFR = data[data[\"price\"] > 250]\n",
    "dataForRFR = data[data[\"price\"] < 3300]\n",
    "X = dataForRFR[['surface','location','pieces']]\n",
    "y = dataForRFR['price']\n",
    "\n",
    "# Division des données en ensembles d'entraînement et de test\n",
    "X_train, X_test, y_train, y_test = train_test_split(X, y, test_size=0.2, random_state=42)\n",
    "\n",
    "# Création du modèle de régression des forêts aléatoires\n",
    "model = RandomForestRegressor(n_estimators=100, random_state=42)\n",
    "model.fit(X_train, y_train)\n",
    "\n",
    "# Prédictions\n",
    "y_pred = model.predict(X_test)\n",
    "\n",
    "# Affichage des résultats\n",
    "results = pd.DataFrame({'Location': X_test['location'],'Surface': X_test['surface'],  \n",
    "                        'Prix Réel': y_test, 'Prix Prédit': y_pred})\n",
    "print(results)\n",
    "\n",
    "from sklearn.metrics import r2_score, mean_absolute_error, mean_squared_error\n",
    "\n",
    "# Calcul des erreurs\n",
    "mse = mean_squared_error(y_test, y_pred)\n",
    "rmse = mse ** 0.5\n",
    "mae = mean_absolute_error(y_test, y_pred)\n",
    "r2 = r2_score(y_test, y_pred)\n",
    "\n",
    "# MAPE - Erreur moyenne absolue en pourcentage\n",
    "mape = (abs((y_test - y_pred) / y_test).mean()) * 100\n",
    "\n",
    "# Affichage des résultats\n",
    "print(f'Coefficient de détermination (R²): {r2}')\n",
    "print(f'Erreur quadratique moyenne (MSE): {mse}')\n",
    "print(f'Racine carrée de l\\'erreur quadratique moyenne (RMSE): {rmse}')\n",
    "print(f'Erreur absolue moyenne (MAE): {mae}')\n",
    "print(f'Erreur moyenne absolue en pourcentage (MAPE): {mape:.2f}%')\n",
    "\n",
    "# Enregistrement du modèle\n",
    "joblib.dump(model, 'RFR_model.pkl')\n"
   ]
  },
  {
   "cell_type": "code",
   "execution_count": 6,
   "metadata": {},
   "outputs": [
    {
     "name": "stdout",
     "output_type": "stream",
     "text": [
      "     Location  Surface  Prix Réel  Prix Prédit\n",
      "49         16     65.0     2500.0  2177.371686\n",
      "173        17     44.0     1600.0  1605.343167\n",
      "60         13     40.0     1360.0  1564.215915\n",
      "26         11     37.0     1600.0  1531.028241\n",
      "121        11     50.0     1600.0  1888.289965\n",
      "..        ...      ...        ...          ...\n",
      "269        12     25.0     1200.0  1146.904273\n",
      "7           4     43.0     2400.0  1868.318953\n",
      "346        18     12.0      750.0   641.870532\n",
      "96         19     38.0     1480.0  1361.480557\n",
      "317        18     38.0     1330.0  1386.109226\n",
      "\n",
      "[68 rows x 4 columns]\n",
      "Coefficient de détermination (R²): 0.8651786913513375\n",
      "Erreur quadratique moyenne (MSE): 61545.29994254304\n",
      "Racine carrée de l'erreur quadratique moyenne (RMSE): 248.08325203959868\n",
      "Erreur absolue moyenne (MAE): 188.05609355439782\n"
     ]
    }
   ],
   "source": [
    "#je vais le faire avec un modèle de régression linéaire\n",
    "#je vais créer un modèle de régression linéaire\n",
    "model = LinearRegression()\n",
    "#pour le model de régression linéaire, j'ai décidé de supprimer les valeurs au dessus de 3800\n",
    "# dataForLR = data[data[\"price\"] > 250]\n",
    "dataForLR = data[data[\"price\"] < 3800]\n",
    "X = dataForLR[['surface','location','pieces']]\n",
    "y = dataForLR['price']\n",
    "\n",
    "# Division des données en ensembles d'entraînement et de test\n",
    "X_train, X_test, y_train, y_test = train_test_split(X, y, test_size=0.2, random_state=42)\n",
    "\n",
    "#je vais entrainer mon modèle\n",
    "model.fit(X_train, y_train)\n",
    "#je vais faire des prédictions\n",
    "y_pred = model.predict(X_test)\n",
    "#je vais afficher les résultats\n",
    "results = pd.DataFrame({'Location': X_test['location'],'Surface': X_test['surface'], \n",
    "                        'Prix Réel': y_test, 'Prix Prédit': y_pred})\n",
    "print(results)\n",
    "#je vais calculer les erreurs\n",
    "mse = mean_squared_error(y_test, y_pred)\n",
    "rmse = mse ** 0.5\n",
    "mae = mean_absolute_error(y_test, y_pred)\n",
    "r2 = r2_score(y_test, y_pred)\n",
    "#je vais afficher les résultats\n",
    "print(f'Coefficient de détermination (R²): {r2}')\n",
    "print(f'Erreur quadratique moyenne (MSE): {mse}')\n",
    "print(f'Racine carrée de l\\'erreur quadratique moyenne (RMSE): {rmse}')\n",
    "print(f'Erreur absolue moyenne (MAE): {mae}')\n"
   ]
  },
  {
   "cell_type": "code",
   "execution_count": 9,
   "metadata": {},
   "outputs": [
    {
     "name": "stdout",
     "output_type": "stream",
     "text": [
      "     Location  Surface  Prix Réel  Prix Prédit\n",
      "49         16     65.0     2500.0  2211.947454\n",
      "173        17     44.0     1600.0  1591.116252\n",
      "60         13     40.0     1360.0  1560.111099\n",
      "26         11     37.0     1600.0  1495.233600\n",
      "121        11     50.0     1600.0  1867.288385\n",
      "..        ...      ...        ...          ...\n",
      "269        12     25.0     1200.0  1058.044236\n",
      "7           4     43.0     2400.0  1952.577303\n",
      "346        18     12.0      750.0   733.663799\n",
      "96         19     38.0     1480.0  1429.310984\n",
      "317        18     38.0     1330.0  1438.120228\n",
      "\n",
      "[68 rows x 4 columns]\n",
      "Coefficient de détermination (R²): 0.8811468438625822\n",
      "Erreur quadratique moyenne (MSE): 54255.91263661005\n",
      "Racine carrée de l'erreur quadratique moyenne (RMSE): 232.92898625248438\n",
      "Erreur absolue moyenne (MAE): 180.14999135798843\n"
     ]
    }
   ],
   "source": [
    "from sklearn.neural_network import MLPRegressor\n",
    "from sklearn.preprocessing import StandardScaler\n",
    "from sklearn.metrics import mean_squared_error, mean_absolute_error, r2_score\n",
    "#pour le modèle de régression par perceptron multicouche, j'ai décidé de supprimer les valeurs au dessus de 3800\n",
    "# dataForLR = data[data[\"price\"] > 250]\n",
    "dataForMLPR = data[data[\"price\"] < 3800]\n",
    "X = dataForMLPR[['surface','location','pieces']]\n",
    "y = dataForMLPR['price']\n",
    "X_train, X_test, y_train, y_test = train_test_split(X, y, test_size=0.2, random_state=42)\n",
    "# Normalisation des données\n",
    "scaler = StandardScaler()\n",
    "X_train_scaled = scaler.fit_transform(X_train)\n",
    "X_test_scaled = scaler.transform(X_test)\n",
    "\n",
    "# Création du modèle avec des hyperparamètres ajustés\n",
    "model = MLPRegressor(hidden_layer_sizes=(96, 64, 32), max_iter=1000, random_state=42)\n",
    "\n",
    "# Entraînement du modèle\n",
    "model.fit(X_train_scaled, y_train)\n",
    "\n",
    "# Prédictions\n",
    "y_pred = model.predict(X_test_scaled)\n",
    "\n",
    "# Affichage des résultats\n",
    "results = pd.DataFrame({'Location': X_test['location'], 'Surface': X_test['surface'], \n",
    "                        'Prix Réel': y_test, 'Prix Prédit': y_pred})\n",
    "print(results)\n",
    "\n",
    "# Calcul des erreurs\n",
    "mse = mean_squared_error(y_test, y_pred)\n",
    "rmse = mse ** 0.5\n",
    "mae = mean_absolute_error(y_test, y_pred)\n",
    "r2 = r2_score(y_test, y_pred)\n",
    "\n",
    "# Affichage des résultats\n",
    "print(f'Coefficient de détermination (R²): {r2}')\n",
    "print(f'Erreur quadratique moyenne (MSE): {mse}')\n",
    "print(f'Racine carrée de l\\'erreur quadratique moyenne (RMSE): {rmse}')\n",
    "print(f'Erreur absolue moyenne (MAE): {mae}')\n",
    "\n",
    "\n"
   ]
  }
 ],
 "metadata": {
  "kernelspec": {
   "display_name": "Python 3",
   "language": "python",
   "name": "python3"
  },
  "language_info": {
   "codemirror_mode": {
    "name": "ipython",
    "version": 3
   },
   "file_extension": ".py",
   "mimetype": "text/x-python",
   "name": "python",
   "nbconvert_exporter": "python",
   "pygments_lexer": "ipython3",
   "version": "3.13.0"
  }
 },
 "nbformat": 4,
 "nbformat_minor": 2
}
