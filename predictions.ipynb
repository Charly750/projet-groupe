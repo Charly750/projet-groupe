{
 "cells": [
  {
   "cell_type": "code",
   "execution_count": 15,
   "metadata": {},
   "outputs": [],
   "source": [
    "#je vais me connecter à la base de données annonces.db faire des prédictions des prix grace à un modèle de machine learning\n",
    "#je vais ensuite enregistrer le modèle dans un fichier pour pouvoir l'utiliser plus tard\n",
    "import sqlite3\n",
    "import pandas as pd\n",
    "from sklearn.model_selection import train_test_split\n",
    "from sklearn.linear_model import LinearRegression\n",
    "from sklearn.metrics import mean_squared_error\n",
    "import numpy as np\n",
    "\n"
   ]
  },
  {
   "cell_type": "code",
   "execution_count": 16,
   "metadata": {},
   "outputs": [],
   "source": [
    "#je me connecte à la base de données\n",
    "conn = sqlite3.connect(\"annonces.db\")\n",
    "#je récupère les données\n",
    "data = pd.read_sql_query(\"SELECT * FROM annonces\", conn)\n",
    "#je ferme la connexion\n",
    "conn.close()"
   ]
  },
  {
   "cell_type": "code",
   "execution_count": 17,
   "metadata": {},
   "outputs": [
    {
     "name": "stdout",
     "output_type": "stream",
     "text": [
      "   id  location  pieces  surface   price  \\\n",
      "0   1        10       1     15.4   740.0   \n",
      "1   2         8       1     40.0  2000.0   \n",
      "2   3        16       1     12.0   585.0   \n",
      "3   4         1       3     73.0  3499.0   \n",
      "4   5         5       2     38.0  1610.0   \n",
      "\n",
      "                                         description  \n",
      "0  Studio refait à neuf très belle prestation rez...  \n",
      "1  **Idéal étudiant(e)** À 100 m du Parc Monceau,...  \n",
      "2  **Disponible fin octobre 2024** Studette meubl...  \n",
      "3  Très bel appartement parisien de 73m2, entière...  \n",
      "4  **C'est ma résidence principale que je loue pe...  \n"
     ]
    }
   ],
   "source": [
    "# je vais faire un boxplot pour voir si il y a des valeurs aberrantes\n",
    "print(data.head())\n",
    "\n",
    "# je vais supprimer les valeurs aberrantes\n",
    "# data = data[data[\"price\"] < 1000000]\n"
   ]
  },
  {
   "cell_type": "code",
   "execution_count": 18,
   "metadata": {},
   "outputs": [
    {
     "name": "stdout",
     "output_type": "stream",
     "text": [
      "['id', 'location', 'pieces', 'surface', 'price', 'description']\n"
     ]
    },
    {
     "data": {
      "text/plain": [
       "<Axes: >"
      ]
     },
     "execution_count": 18,
     "metadata": {},
     "output_type": "execute_result"
    }
   ],
   "source": [
    "import matplotlib.pyplot as plt\n",
    "data.columns = data.columns.str.strip()\n",
    "print(data.columns.tolist())\n",
    "\n",
    "data = data[data[\"price\"] < 3500]\n",
    "\n",
    "#je crée un boxplot pour voir si il y a des valeurs aberrantes\n",
    "data.boxplot(column=\"price\")"
   ]
  },
  {
   "cell_type": "code",
   "execution_count": 19,
   "metadata": {},
   "outputs": [
    {
     "name": "stdout",
     "output_type": "stream",
     "text": [
      "     Location  Surface  Prix Réel  Prix Prédit\n",
      "26         11     37.0     1600.0   769.370000\n",
      "117        15     30.0     1350.0  1408.208095\n",
      "81         15     80.0     2750.0  2746.840000\n",
      "209        17     74.0     2500.0  2751.640000\n",
      "60         13     40.0     1360.0  1567.790000\n",
      "..        ...      ...        ...          ...\n",
      "316        18     60.0     2100.0  2032.670000\n",
      "312        15     34.0     1650.0  1489.451429\n",
      "124        15     48.0     1860.0  1891.140000\n",
      "83         15     69.0     2490.0  2440.960000\n",
      "259        18    105.0     2995.0  2213.380000\n",
      "\n",
      "[67 rows x 4 columns]\n",
      "Coefficient de détermination (R²): 0.7729962132159078\n",
      "Erreur quadratique moyenne (MSE): 114341.94940061509\n",
      "Racine carrée de l'erreur quadratique moyenne (RMSE): 338.1448645190624\n",
      "Erreur absolue moyenne (MAE): 226.3963361762615\n",
      "Erreur moyenne absolue en pourcentage (MAPE): 15.79%\n"
     ]
    }
   ],
   "source": [
    "from sklearn.ensemble import RandomForestRegressor\n",
    "\n",
    "\n",
    "X = data[['surface','location','pieces']]\n",
    "y = data['price']\n",
    "\n",
    "# Division des données en ensembles d'entraînement et de test\n",
    "X_train, X_test, y_train, y_test = train_test_split(X, y, test_size=0.2, random_state=42)\n",
    "\n",
    "# Création du modèle de régression des forêts aléatoires\n",
    "model = RandomForestRegressor(n_estimators=100, random_state=42)\n",
    "model.fit(X_train, y_train)\n",
    "\n",
    "# Prédictions\n",
    "y_pred = model.predict(X_test)\n",
    "\n",
    "# Affichage des résultats\n",
    "results = pd.DataFrame({'Location': X_test['location'],'Surface': X_test['surface'],  \n",
    "                        'Prix Réel': y_test, 'Prix Prédit': y_pred})\n",
    "print(results)\n",
    "\n",
    "from sklearn.metrics import r2_score, mean_absolute_error, mean_squared_error\n",
    "\n",
    "# Calcul des erreurs\n",
    "mse = mean_squared_error(y_test, y_pred)\n",
    "rmse = mse ** 0.5\n",
    "mae = mean_absolute_error(y_test, y_pred)\n",
    "r2 = r2_score(y_test, y_pred)\n",
    "\n",
    "# MAPE - Erreur moyenne absolue en pourcentage\n",
    "mape = (abs((y_test - y_pred) / y_test).mean()) * 100\n",
    "\n",
    "# Affichage des résultats\n",
    "print(f'Coefficient de détermination (R²): {r2}')\n",
    "print(f'Erreur quadratique moyenne (MSE): {mse}')\n",
    "print(f'Racine carrée de l\\'erreur quadratique moyenne (RMSE): {rmse}')\n",
    "print(f'Erreur absolue moyenne (MAE): {mae}')\n",
    "print(f'Erreur moyenne absolue en pourcentage (MAPE): {mape:.2f}%')\n"
   ]
  },
  {
   "cell_type": "code",
   "execution_count": 20,
   "metadata": {},
   "outputs": [
    {
     "name": "stdout",
     "output_type": "stream",
     "text": [
      "     Location  Surface  Prix Réel  Prix Prédit\n",
      "26         11     37.0     1600.0  1535.866394\n",
      "117        15     30.0     1350.0  1259.775951\n",
      "81         15     80.0     2750.0  2669.954408\n",
      "209        17     74.0     2500.0  2407.225375\n",
      "60         13     40.0     1360.0  1565.493849\n",
      "..        ...      ...        ...          ...\n",
      "316        18     60.0     2100.0  2022.204259\n",
      "312        15     34.0     1650.0  1362.959137\n",
      "124        15     48.0     1860.0  1724.100284\n",
      "83         15     69.0     2490.0  2326.006328\n",
      "259        18    105.0     2995.0  3243.209413\n",
      "\n",
      "[67 rows x 4 columns]\n",
      "Coefficient de détermination (R²): 0.8625140617385805\n",
      "Erreur quadratique moyenne (MSE): 69251.75310372825\n",
      "Racine carrée de l'erreur quadratique moyenne (RMSE): 263.15727826478263\n",
      "Erreur absolue moyenne (MAE): 188.34968023499871\n"
     ]
    }
   ],
   "source": [
    "#je vais le faire avec un modèle de régression linéaire\n",
    "#je vais créer un modèle de régression linéaire\n",
    "model = LinearRegression()\n",
    "#je vais entrainer mon modèle\n",
    "model.fit(X_train, y_train)\n",
    "#je vais faire des prédictions\n",
    "y_pred = model.predict(X_test)\n",
    "#je vais afficher les résultats\n",
    "results = pd.DataFrame({'Location': X_test['location'],'Surface': X_test['surface'], \n",
    "                        'Prix Réel': y_test, 'Prix Prédit': y_pred})\n",
    "print(results)\n",
    "#je vais calculer les erreurs\n",
    "mse = mean_squared_error(y_test, y_pred)\n",
    "rmse = mse ** 0.5\n",
    "mae = mean_absolute_error(y_test, y_pred)\n",
    "r2 = r2_score(y_test, y_pred)\n",
    "#je vais afficher les résultats\n",
    "print(f'Coefficient de détermination (R²): {r2}')\n",
    "print(f'Erreur quadratique moyenne (MSE): {mse}')\n",
    "print(f'Racine carrée de l\\'erreur quadratique moyenne (RMSE): {rmse}')\n",
    "print(f'Erreur absolue moyenne (MAE): {mae}')\n"
   ]
  },
  {
   "cell_type": "code",
   "execution_count": 21,
   "metadata": {},
   "outputs": [
    {
     "name": "stdout",
     "output_type": "stream",
     "text": [
      "     Location  Surface  Prix Réel  Prix Prédit\n",
      "26         11     37.0     1600.0  1493.873894\n",
      "117        15     30.0     1350.0  1257.029620\n",
      "81         15     80.0     2750.0  2556.567343\n",
      "209        17     74.0     2500.0  2378.381393\n",
      "60         13     40.0     1360.0  1560.019949\n",
      "..        ...      ...        ...          ...\n",
      "316        18     60.0     2100.0  2033.994584\n",
      "312        15     34.0     1650.0  1372.575255\n",
      "124        15     48.0     1860.0  1750.281571\n",
      "83         15     69.0     2490.0  2263.402655\n",
      "259        18    105.0     2995.0  3142.320507\n",
      "\n",
      "[67 rows x 4 columns]\n",
      "Coefficient de détermination (R²): 0.8652427527531671\n",
      "Erreur quadratique moyenne (MSE): 67877.30973280544\n",
      "Racine carrée de l'erreur quadratique moyenne (RMSE): 260.53274215116505\n",
      "Erreur absolue moyenne (MAE): 185.31771322045034\n"
     ]
    },
    {
     "data": {
      "text/plain": [
       "['mlp_model.pkl']"
      ]
     },
     "execution_count": 21,
     "metadata": {},
     "output_type": "execute_result"
    }
   ],
   "source": [
    "from sklearn.neural_network import MLPRegressor\n",
    "from sklearn.preprocessing import StandardScaler\n",
    "from sklearn.metrics import mean_squared_error, mean_absolute_error, r2_score\n",
    "import joblib\n",
    "\n",
    "# Normalisation des données\n",
    "scaler = StandardScaler()\n",
    "X_train_scaled = scaler.fit_transform(X_train)\n",
    "X_test_scaled = scaler.transform(X_test)\n",
    "\n",
    "# Création du modèle avec des hyperparamètres ajustés\n",
    "model = MLPRegressor(hidden_layer_sizes=(96, 64, 32), max_iter=2000, random_state=42)\n",
    "\n",
    "# Entraînement du modèle\n",
    "model.fit(X_train_scaled, y_train)\n",
    "\n",
    "# Prédictions\n",
    "y_pred = model.predict(X_test_scaled)\n",
    "\n",
    "# Affichage des résultats\n",
    "results = pd.DataFrame({'Location': X_test['location'], 'Surface': X_test['surface'], \n",
    "                        'Prix Réel': y_test, 'Prix Prédit': y_pred})\n",
    "print(results)\n",
    "\n",
    "# Calcul des erreurs\n",
    "mse = mean_squared_error(y_test, y_pred)\n",
    "rmse = mse ** 0.5\n",
    "mae = mean_absolute_error(y_test, y_pred)\n",
    "r2 = r2_score(y_test, y_pred)\n",
    "\n",
    "# Affichage des résultats\n",
    "print(f'Coefficient de détermination (R²): {r2}')\n",
    "print(f'Erreur quadratique moyenne (MSE): {mse}')\n",
    "print(f'Racine carrée de l\\'erreur quadratique moyenne (RMSE): {rmse}')\n",
    "print(f'Erreur absolue moyenne (MAE): {mae}')\n",
    "\n",
    "# Enregistrement du modèle\n",
    "joblib.dump(model, 'mlp_model.pkl')\n"
   ]
  }
 ],
 "metadata": {
  "kernelspec": {
   "display_name": "Python 3",
   "language": "python",
   "name": "python3"
  },
  "language_info": {
   "codemirror_mode": {
    "name": "ipython",
    "version": 3
   },
   "file_extension": ".py",
   "mimetype": "text/x-python",
   "name": "python",
   "nbconvert_exporter": "python",
   "pygments_lexer": "ipython3",
   "version": "3.13.0"
  }
 },
 "nbformat": 4,
 "nbformat_minor": 2
}
