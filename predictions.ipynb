{
 "cells": [
  {
   "cell_type": "code",
   "execution_count": 1,
   "metadata": {},
   "outputs": [],
   "source": [
    "#je vais me connecter à la base de données annonces.db faire des prédictions des prix grace à un modèle de machine learning\n",
    "#je vais ensuite enregistrer le modèle dans un fichier pour pouvoir l'utiliser plus tard\n",
    "import sqlite3\n",
    "import pandas as pd\n",
    "from sklearn.model_selection import train_test_split\n",
    "from sklearn.linear_model import LinearRegression\n",
    "from sklearn.metrics import mean_squared_error\n",
    "import numpy as np\n",
    "\n"
   ]
  },
  {
   "cell_type": "code",
   "execution_count": 2,
   "metadata": {},
   "outputs": [],
   "source": [
    "#je me connecte à la base de données\n",
    "conn = sqlite3.connect(\"annonces.db\")\n",
    "#je récupère les données\n",
    "data = pd.read_sql_query(\"SELECT * FROM annonces\", conn)\n",
    "#je ferme la connexion\n",
    "conn.close()"
   ]
  },
  {
   "cell_type": "code",
   "execution_count": 3,
   "metadata": {},
   "outputs": [
    {
     "name": "stdout",
     "output_type": "stream",
     "text": [
      "   id  location  pieces  surface   price  \\\n",
      "0   1         9       1     30.0  1500.0   \n",
      "1   2        20       1     32.0  1350.0   \n",
      "2   3         7       1     45.0  1600.0   \n",
      "3   4        11       1     19.0   950.0   \n",
      "4   5        15       2     37.0  1690.0   \n",
      "\n",
      "                                         description  \n",
      "0  Idéal pour un(e) étudiant (e) ou un couple (de...  \n",
      "1  Location Meublée - Loyer charges comprises inc...  \n",
      "2  Quartier des Invalides proche Concorde. Logeme...  \n",
      "3  Métro Bastille ou Ledru-Rollin. Immeuble pierr...  \n",
      "4  Appartement disponible à partir du 30 novembre...  \n"
     ]
    }
   ],
   "source": [
    "# je vais faire un boxplot pour voir si il y a des valeurs aberrantes\n",
    "print(data.head())\n",
    "\n",
    "# je vais supprimer les valeurs aberrantes\n",
    "# data = data[data[\"price\"] < 1000000]\n"
   ]
  },
  {
   "cell_type": "code",
   "execution_count": 4,
   "metadata": {},
   "outputs": [
    {
     "name": "stdout",
     "output_type": "stream",
     "text": [
      "['id', 'location', 'pieces', 'surface', 'price', 'description']\n"
     ]
    },
    {
     "data": {
      "text/plain": [
       "<Axes: >"
      ]
     },
     "execution_count": 4,
     "metadata": {},
     "output_type": "execute_result"
    },
    {
     "data": {
      "image/png": "[encoded data removed]",
      "text/plain": [
       "<Figure size 640x480 with 1 Axes>"
      ]
     },
     "metadata": {},
     "output_type": "display_data"
    }
   ],
   "source": [
    "import matplotlib.pyplot as plt\n",
    "data.columns = data.columns.str.strip()\n",
    "print(data.columns.tolist())\n",
    "\n",
    "data = data[data[\"price\"] < 3500]\n",
    "\n",
    "#je crée un boxplot pour voir si il y a des valeurs aberrantes\n",
    "data.boxplot(column=\"price\")"
   ]
  },
  {
   "cell_type": "code",
   "execution_count": 5,
   "metadata": {},
   "outputs": [
    {
     "name": "stdout",
     "output_type": "stream",
     "text": [
      "     Location  Surface  Prix Réel  Prix Prédit\n",
      "81         15    24.00     1000.0  1020.000000\n",
      "10         16    23.00     1500.0   988.200000\n",
      "4          15    37.00     1690.0  1385.180000\n",
      "89         17    97.99     3400.0  2709.900000\n",
      "66          8    40.00     3000.0  1992.920000\n",
      "70          8    52.00     2400.0  2305.820000\n",
      "30          4    27.00     1995.0  1339.910000\n",
      "46          8    36.00     1600.0   954.350000\n",
      "101        16     9.13      480.0   613.263333\n",
      "11         17    75.00     3000.0  2731.240000\n",
      "82         13    62.00     1800.0  2033.660000\n",
      "83          7    70.00     2230.0  2688.140000\n",
      "0           9    30.00     1500.0  1230.130000\n",
      "85         15    37.00     1650.0  1385.180000\n",
      "18         15    30.00     1350.0  1169.550000\n",
      "73          8    14.00      630.0   693.300000\n",
      "58         17    19.00      810.0   949.800000\n",
      "75         11    33.00     1495.0  1300.690000\n",
      "116        14    72.54     2350.0  2731.110000\n",
      "43         15    27.00     1250.0  1126.250000\n",
      "12         16     9.13      480.0   613.263333\n",
      "37         12    47.06     1770.0  1702.200000\n",
      "67         13    35.00     1550.0  1476.430000\n",
      "Coefficient de détermination (R²): 0.7412477575065541\n",
      "Erreur quadratique moyenne (MSE): 151313.73800096617\n",
      "Racine carrée de l'erreur quadratique moyenne (RMSE): 388.9906656990193\n",
      "Erreur absolue moyenne (MAE): 300.6342028985507\n",
      "Erreur moyenne absolue en pourcentage (MAPE): 17.63%\n"
     ]
    }
   ],
   "source": [
    "from sklearn.ensemble import RandomForestRegressor\n",
    "from sklearn.preprocessing import StandardScaler\n",
    "\n",
    "# # Supposons que votre dataframe s'appelle df\n",
    "# features_to_standardize = ['surface', 'price']\n",
    "\n",
    "# scaler = StandardScaler()\n",
    "\n",
    "# # Standardisation des caractéristiques dans l'ensemble d'entraînement\n",
    "# data[features_to_standardize] = scaler.fit_transform(data[features_to_standardize])\n",
    "\n",
    "X = data[['surface','location']]\n",
    "y = data['price']\n",
    "\n",
    "# Division des données en ensembles d'entraînement et de test\n",
    "X_train, X_test, y_train, y_test = train_test_split(X, y, test_size=0.2, random_state=42)\n",
    "\n",
    "# Création du modèle de régression des forêts aléatoires\n",
    "model = RandomForestRegressor(n_estimators=100, random_state=42)\n",
    "model.fit(X_train, y_train)\n",
    "\n",
    "# Prédictions\n",
    "y_pred = model.predict(X_test)\n",
    "\n",
    "# Affichage des résultats\n",
    "results = pd.DataFrame({'Location': X_test['location'],'Surface': X_test['surface'],  \n",
    "                        'Prix Réel': y_test, 'Prix Prédit': y_pred})\n",
    "print(results)\n",
    "\n",
    "from sklearn.metrics import r2_score, mean_absolute_error, mean_squared_error\n",
    "\n",
    "# Calcul des erreurs\n",
    "mse = mean_squared_error(y_test, y_pred)\n",
    "rmse = mse ** 0.5\n",
    "mae = mean_absolute_error(y_test, y_pred)\n",
    "r2 = r2_score(y_test, y_pred)\n",
    "\n",
    "# MAPE - Erreur moyenne absolue en pourcentage\n",
    "mape = (abs((y_test - y_pred) / y_test).mean()) * 100\n",
    "\n",
    "# Affichage des résultats\n",
    "print(f'Coefficient de détermination (R²): {r2}')\n",
    "print(f'Erreur quadratique moyenne (MSE): {mse}')\n",
    "print(f'Racine carrée de l\\'erreur quadratique moyenne (RMSE): {rmse}')\n",
    "print(f'Erreur absolue moyenne (MAE): {mae}')\n",
    "print(f'Erreur moyenne absolue en pourcentage (MAPE): {mape:.2f}%')\n"
   ]
  },
  {
   "cell_type": "code",
   "execution_count": 6,
   "metadata": {},
   "outputs": [
    {
     "name": "stdout",
     "output_type": "stream",
     "text": [
      "     Location  Surface  Prix Réel  Prix Prédit\n",
      "81         15    24.00     1000.0  1015.087706\n",
      "10         16    23.00     1500.0   956.445351\n",
      "4          15    37.00     1690.0  1421.658559\n",
      "89         17    97.99     3400.0  3274.366003\n",
      "66          8    40.00     3000.0  1707.056324\n",
      "70          8    52.00     2400.0  2082.352495\n",
      "30          4    27.00     1995.0  1409.956169\n",
      "46          8    36.00     1600.0  1581.957600\n",
      "101        16     9.13      480.0   522.665526\n",
      "11         17    75.00     3000.0  2555.361087\n",
      "82         13    62.00     1800.0  2258.260933\n",
      "83          7    70.00     2230.0  2672.664428\n",
      "0           9    30.00     1500.0  1366.941839\n",
      "85         15    37.00     1650.0  1421.658559\n",
      "18         15    30.00     1350.0  1202.735792\n",
      "73          8    14.00      630.0   893.914618\n",
      "58         17    19.00      810.0   803.978952\n",
      "75         11    33.00     1495.0  1406.030533\n",
      "116        14    72.54     2350.0  2560.528396\n",
      "43         15    27.00     1250.0  1108.911749\n",
      "12         16     9.13      480.0   522.665526\n",
      "37         12    47.06     1770.0  1818.384873\n",
      "67         13    35.00     1550.0  1413.844546\n",
      "Coefficient de détermination (R²): 0.7501696898028913\n",
      "Erreur quadratique moyenne (MSE): 146096.34968795654\n",
      "Racine carrée de l'erreur quadratique moyenne (RMSE): 382.2255220258801\n",
      "Erreur absolue moyenne (MAE): 260.9094106483577\n"
     ]
    }
   ],
   "source": [
    "#je vais le faire avec un modèle de régression linéaire\n",
    "#je vais créer un modèle de régression linéaire\n",
    "model = LinearRegression()\n",
    "#je vais entrainer mon modèle\n",
    "model.fit(X_train, y_train)\n",
    "#je vais faire des prédictions\n",
    "y_pred = model.predict(X_test)\n",
    "#je vais afficher les résultats\n",
    "results = pd.DataFrame({'Location': X_test['location'],'Surface': X_test['surface'], \n",
    "                        'Prix Réel': y_test, 'Prix Prédit': y_pred})\n",
    "print(results)\n",
    "#je vais calculer les erreurs\n",
    "mse = mean_squared_error(y_test, y_pred)\n",
    "rmse = mse ** 0.5\n",
    "mae = mean_absolute_error(y_test, y_pred)\n",
    "r2 = r2_score(y_test, y_pred)\n",
    "#je vais afficher les résultats\n",
    "print(f'Coefficient de détermination (R²): {r2}')\n",
    "print(f'Erreur quadratique moyenne (MSE): {mse}')\n",
    "print(f'Racine carrée de l\\'erreur quadratique moyenne (RMSE): {rmse}')\n",
    "print(f'Erreur absolue moyenne (MAE): {mae}')\n"
   ]
  },
  {
   "cell_type": "code",
   "execution_count": 7,
   "metadata": {},
   "outputs": [
    {
     "name": "stdout",
     "output_type": "stream",
     "text": [
      "     Location  Surface  Prix Réel  Prix Prédit\n",
      "81         15    24.00     1000.0  1006.617752\n",
      "10         16    23.00     1500.0   985.412684\n",
      "4          15    37.00     1690.0  1472.174341\n",
      "89         17    97.99     3400.0  3147.551172\n",
      "66          8    40.00     3000.0  1697.748764\n",
      "70          8    52.00     2400.0  2263.246440\n",
      "30          4    27.00     1995.0  1289.509983\n",
      "46          8    36.00     1600.0  1516.222480\n",
      "101        16     9.13      480.0   576.043071\n",
      "11         17    75.00     3000.0  2462.199508\n",
      "82         13    62.00     1800.0  2225.989390\n",
      "83          7    70.00     2230.0  2973.144151\n",
      "0           9    30.00     1500.0  1209.449307\n",
      "85         15    37.00     1650.0  1472.174341\n",
      "18         15    30.00     1350.0  1235.046961\n",
      "73          8    14.00      630.0   720.503086\n",
      "58         17    19.00      810.0   861.194020\n",
      "75         11    33.00     1495.0  1240.148857\n",
      "116        14    72.54     2350.0  2499.681688\n",
      "43         15    27.00     1250.0  1120.148450\n",
      "12         16     9.13      480.0   576.043071\n",
      "37         12    47.06     1770.0  1860.344086\n",
      "67         13    35.00     1550.0  1365.475725\n",
      "Coefficient de détermination (R²): 0.708310714140259\n",
      "Erreur quadratique moyenne (MSE): 170574.73880400372\n",
      "Racine carrée de l'erreur quadratique moyenne (RMSE): 413.00694764616696\n",
      "Erreur absolue moyenne (MAE): 289.26310007225834\n"
     ]
    },
    {
     "name": "stderr",
     "output_type": "stream",
     "text": [
      "/Library/Frameworks/Python.framework/Versions/3.13/lib/python3.13/site-packages/sklearn/neural_network/_multilayer_perceptron.py:690: ConvergenceWarning: Stochastic Optimizer: Maximum iterations (2000) reached and the optimization hasn't converged yet.\n",
      "  warnings.warn(\n"
     ]
    },
    {
     "data": {
      "text/plain": [
       "['mlp_model.pkl']"
      ]
     },
     "execution_count": 7,
     "metadata": {},
     "output_type": "execute_result"
    }
   ],
   "source": [
    "from sklearn.neural_network import MLPRegressor\n",
    "from sklearn.preprocessing import StandardScaler\n",
    "from sklearn.metrics import mean_squared_error, mean_absolute_error, r2_score\n",
    "import joblib\n",
    "\n",
    "# Normalisation des données\n",
    "scaler = StandardScaler()\n",
    "X_train_scaled = scaler.fit_transform(X_train)\n",
    "X_test_scaled = scaler.transform(X_test)\n",
    "\n",
    "# Création du modèle avec des hyperparamètres ajustés\n",
    "model = MLPRegressor(hidden_layer_sizes=(96, 64, 32), max_iter=2000, random_state=42)\n",
    "\n",
    "# Entraînement du modèle\n",
    "model.fit(X_train_scaled, y_train)\n",
    "\n",
    "# Prédictions\n",
    "y_pred = model.predict(X_test_scaled)\n",
    "\n",
    "# Affichage des résultats\n",
    "results = pd.DataFrame({'Location': X_test['location'], 'Surface': X_test['surface'], \n",
    "                        'Prix Réel': y_test, 'Prix Prédit': y_pred})\n",
    "print(results)\n",
    "\n",
    "# Calcul des erreurs\n",
    "mse = mean_squared_error(y_test, y_pred)\n",
    "rmse = mse ** 0.5\n",
    "mae = mean_absolute_error(y_test, y_pred)\n",
    "r2 = r2_score(y_test, y_pred)\n",
    "\n",
    "# Affichage des résultats\n",
    "print(f'Coefficient de détermination (R²): {r2}')\n",
    "print(f'Erreur quadratique moyenne (MSE): {mse}')\n",
    "print(f'Racine carrée de l\\'erreur quadratique moyenne (RMSE): {rmse}')\n",
    "print(f'Erreur absolue moyenne (MAE): {mae}')\n",
    "\n",
    "# Enregistrement du modèle\n",
    "joblib.dump(model, 'mlp_model.pkl')\n"
   ]
  }
 ],
 "metadata": {
  "kernelspec": {
   "display_name": "Python 3",
   "language": "python",
   "name": "python3"
  },
  "language_info": {
   "codemirror_mode": {
    "name": "ipython",
    "version": 3
   },
   "file_extension": ".py",
   "mimetype": "text/x-python",
   "name": "python",
   "nbconvert_exporter": "python",
   "pygments_lexer": "ipython3",
   "version": "3.13.0"
  }
 },
 "nbformat": 4,
 "nbformat_minor": 2
}
